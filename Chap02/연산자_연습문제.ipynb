{
  "cells": [
    {
      "cell_type": "markdown",
      "metadata": {},
      "source": [
        "# 연습문제 2\n",
        "\n",
        "## 문제 1: 초를 분과 초로 변환\n",
        "초를 입력하면 분과 초로 표시하는 프로그램. 예를 들어, 200초를 입력하면 3분 20초로 표현하라.\n"
      ]
    },
    {
      "cell_type": "code",
      "execution_count": null,
      "metadata": {},
      "outputs": [],
      "source": [
        "# 문제 1: 초를 분과 초로 변환\n",
        "seconds = int(input(\"초를 입력하세요: \"))\n",
        "minutes = seconds // 60  # 몫 (분)\n",
        "remaining_seconds = seconds % 60  # 나머지 (초)\n",
        "\n",
        "print(f\"{seconds}초 = {minutes}분 {remaining_seconds}초\")\n"
      ]
    },
    {
      "cell_type": "markdown",
      "metadata": {},
      "source": [
        "## 문제 2: 분을 일, 시간, 분으로 변환\n",
        "분(min)을 입력하면, 일, 시간, 분으로 출력하는 프로그램을 만들어라. (예: 1550분은 1일 1시간 50분)\n"
      ]
    },
    {
      "cell_type": "code",
      "execution_count": null,
      "metadata": {},
      "outputs": [],
      "source": [
        "# 문제 2: 분을 일, 시간, 분으로 변환\n",
        "total_minutes = int(input(\"분을 입력하세요: \"))\n",
        "\n",
        "# 1일 = 24시간 = 1440분\n",
        "days = total_minutes // 1440  # 일\n",
        "remaining_minutes = total_minutes % 1440  # 남은 분\n",
        "\n",
        "# 남은 분을 시간과 분으로 변환\n",
        "hours = remaining_minutes // 60  # 시간\n",
        "minutes = remaining_minutes % 60  # 분\n",
        "\n",
        "print(f\"{total_minutes}분 = {days}일 {hours}시간 {minutes}분\")\n"
      ]
    },
    {
      "cell_type": "markdown",
      "metadata": {},
      "source": [
        "## 문제 3: 복리 계산\n",
        "500만원을 년이율 5%로 복리 저금했을 때 5년 후의 원리금의 합계를 출력하는 프로그램\n"
      ]
    },
    {
      "cell_type": "code",
      "execution_count": null,
      "metadata": {},
      "outputs": [],
      "source": [
        "# 문제 3: 복리 계산\n",
        "principal = 5000000  # 원금 (500만원)\n",
        "interest_rate = 0.05  # 이자율 (5%)\n",
        "years = 5  # 기간 (5년)\n",
        "\n",
        "# 복리 공식: A = P(1 + r)^t\n",
        "# A: 최종 금액, P: 원금, r: 이자율, t: 기간\n",
        "final_amount = principal * (1 + interest_rate) ** years\n",
        "\n",
        "print(f\"원금: {principal:,}원\")\n",
        "print(f\"이자율: {interest_rate * 100}%\")\n",
        "print(f\"기간: {years}년\")\n",
        "print(f\"5년 후 원리금 합계: {final_amount:,.0f}원\")\n"
      ]
    },
    {
      "cell_type": "markdown",
      "metadata": {},
      "source": [
        "## 문제 4: 1부터 n까지의 합\n",
        "1부터 n까지의 합은 n(n+1)/2로 주어진다. 1부터 100까지의 합을 구하여 출력하는 프로그램을 작성하고 실행하라.\n"
      ]
    },
    {
      "cell_type": "code",
      "execution_count": null,
      "metadata": {},
      "outputs": [],
      "source": [
        "# 문제 4: 1부터 n까지의 합\n",
        "n = 100\n",
        "sum_formula = n * (n + 1) // 2  # 공식 사용\n",
        "\n",
        "print(f\"1부터 {n}까지의 합\")\n",
        "print(f\"공식 사용: {n} × ({n} + 1) ÷ 2 = {sum_formula}\")\n",
        "\n",
        "# 검증: 반복문으로 계산\n",
        "sum_loop = 0\n",
        "for i in range(1, n + 1):\n",
        "    sum_loop += i\n",
        "\n",
        "print(f\"반복문 사용: {sum_loop}\")\n",
        "print(f\"결과가 같은가? {sum_formula == sum_loop}\")\n"
      ]
    },
    {
      "cell_type": "markdown",
      "metadata": {},
      "source": [
        "## 문제 5: 과일 무게 계산\n",
        "판매자가 딸기와 포도를 판매하고 있다. 포도 한 알의 무게는 75g이고 딸기 한 알의 무게는 113.5g이다. 사용자로부터 포도 알의 개수와 딸기의 개수를 입력 받아 총 무게를 계산하여 출력하는 프로그램을 작성하고 실행하라.\n"
      ]
    },
    {
      "cell_type": "code",
      "execution_count": null,
      "metadata": {},
      "outputs": [],
      "source": [
        "# 문제 5: 과일 무게 계산\n",
        "grape_weight = 75  # 포도 한 알의 무게 (g)\n",
        "strawberry_weight = 113.5  # 딸기 한 알의 무게 (g)\n",
        "\n",
        "print(\"과일 무게 계산 프로그램\")\n",
        "grape_count = int(input(\"포도 알의 개수를 입력하세요: \"))\n",
        "strawberry_count = int(input(\"딸기의 개수를 입력하세요: \"))\n",
        "\n",
        "# 총 무게 계산\n",
        "total_grape_weight = grape_count * grape_weight\n",
        "total_strawberry_weight = strawberry_count * strawberry_weight\n",
        "total_weight = total_grape_weight + total_strawberry_weight\n",
        "\n",
        "print(f\"\\n포도 {grape_count}알: {grape_count} × {grape_weight}g = {total_grape_weight}g\")\n",
        "print(f\"딸기 {strawberry_count}개: {strawberry_count} × {strawberry_weight}g = {total_strawberry_weight}g\")\n",
        "print(f\"총 무게: {total_grape_weight}g + {total_strawberry_weight}g = {total_weight}g\")\n"
      ]
    }
  ],
  "metadata": {
    "language_info": {
      "name": "python"
    }
  },
  "nbformat": 4,
  "nbformat_minor": 2
}
