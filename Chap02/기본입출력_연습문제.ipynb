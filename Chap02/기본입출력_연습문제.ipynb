{
 "cells": [
  {
   "cell_type": "markdown",
   "id": "b01fb696",
   "metadata": {},
   "source": [
    "# 기본입출력 연습문제\n",
    "\n",
    "1. 키보드에서 임의의 두 실수를 입력받아 곱한 후 그 결과를 출력하는 프로그램을 작성하고 실행하라\n",
    "2. 1마일은 1.609km이다. 키보드에서 마일(정수)을 입력받아 km로 변환해 출력하는 프로그램을 작성하고 실행하라\n",
    "3. 원의 반지름을 입력받아 원의 둘레와 원의 면적을 출력하는 프로그램을 작성하라"
   ]
  },
  {
   "cell_type": "markdown",
   "id": "6aa3e7b8",
   "metadata": {},
   "source": [
    "## 문제 1: 두 실수 곱하기\n",
    "키보드에서 임의의 두 실수를 입력받아 곱한 후 그 결과를 출력하는 프로그램\n"
   ]
  },
  {
   "cell_type": "code",
   "execution_count": null,
   "id": "4d28e1f8",
   "metadata": {},
   "outputs": [],
   "source": [
    "# 문제 1: 두 실수 곱하기\n",
    "print(\"두 개의 실수를 입력하세요.\")\n",
    "num1 = float(input(\"첫 번째 실수: \"))\n",
    "num2 = float(input(\"두 번째 실수: \"))\n",
    "\n",
    "result = num1 * num2\n",
    "print(f\"{num1} × {num2} = {result}\")\n"
   ]
  },
  {
   "cell_type": "markdown",
   "id": "c7663b3b",
   "metadata": {},
   "source": [
    "## 문제 2: 마일을 km로 변환\n",
    "1마일은 1.609km이다. 키보드에서 마일(정수)을 입력받아 km로 변환해 출력하는 프로그램\n"
   ]
  },
  {
   "cell_type": "code",
   "execution_count": null,
   "id": "3a03ea96",
   "metadata": {},
   "outputs": [],
   "source": [
    "# 문제 2: 마일을 km로 변환\n",
    "MILES_TO_KM = 1.609  # 1마일 = 1.609km\n",
    "\n",
    "print(\"마일을 km로 변환하는 프로그램입니다.\")\n",
    "miles = int(input(\"마일을 입력하세요: \"))\n",
    "\n",
    "km = miles * MILES_TO_KM\n",
    "print(f\"{miles}마일 = {km:.3f}km\")\n"
   ]
  },
  {
   "cell_type": "markdown",
   "id": "7ea79464",
   "metadata": {},
   "source": [
    "## 문제 3: 원의 둘레와 면적 계산\n",
    "원의 반지름을 입력받아 원의 둘레와 원의 면적을 출력하는 프로그램\n"
   ]
  },
  {
   "cell_type": "code",
   "execution_count": null,
   "id": "31aa7674",
   "metadata": {},
   "outputs": [],
   "source": [
    "# 문제 3: 원의 둘레와 면적 계산\n",
    "import math\n",
    "\n",
    "print(\"원의 둘레와 면적을 계산하는 프로그램입니다.\")\n",
    "radius = float(input(\"원의 반지름을 입력하세요: \"))\n",
    "\n",
    "# 원의 둘레 = 2 * π * r\n",
    "circumference = 2 * math.pi * radius\n",
    "\n",
    "# 원의 면적 = π * r²\n",
    "area = math.pi * radius ** 2\n",
    "\n",
    "print(f\"반지름이 {radius}인 원의\")\n",
    "print(f\"둘레: {circumference:.2f}\")\n",
    "print(f\"면적: {area:.2f}\")\n"
   ]
  }
 ],
 "metadata": {
  "kernelspec": {
   "display_name": "Python 3",
   "language": "python",
   "name": "python3"
  },
  "language_info": {
   "codemirror_mode": {
    "name": "ipython",
    "version": 3
   },
   "file_extension": ".py",
   "mimetype": "text/x-python",
   "name": "python",
   "nbconvert_exporter": "python",
   "pygments_lexer": "ipython3",
   "version": "3.12.10"
  }
 },
 "nbformat": 4,
 "nbformat_minor": 5
}
