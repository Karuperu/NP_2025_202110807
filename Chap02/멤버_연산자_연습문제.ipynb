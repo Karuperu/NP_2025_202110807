{
  "cells": [
    {
      "cell_type": "markdown",
      "metadata": {},
      "source": [
        "# 멤버 연산자 연습문제\n",
        "\n",
        "## 문제 1: 리스트 멤버십 검사\n",
        "숫자 7이 리스트 [1, 2, 3, 4, 5]에 포함되어 있는지 검사하는 프로그램을 작성하라.\n"
      ]
    },
    {
      "cell_type": "code",
      "execution_count": null,
      "metadata": {},
      "outputs": [],
      "source": [
        "# 문제 1: 리스트 멤버십 검사\n",
        "numbers = [1, 2, 3, 4, 5]\n",
        "target = 7\n",
        "result = target in numbers\n",
        "\n",
        "print(f\"리스트: {numbers}\")\n",
        "print(f\"검사할 숫자: {target}\")\n",
        "print(f\"7이 리스트에 포함되어 있는가? {result}\")\n",
        "print(f\"7 in {numbers}: {7 in numbers}\")\n"
      ]
    },
    {
      "cell_type": "markdown",
      "metadata": {},
      "source": [
        "## 문제 2: 세트 멤버십 검사\n",
        "문자열 \"apple\"이 세트 {\"orange\", \"banana\", \"kiwi\"}에 포함되어 있는지 검사하는 프로그램을 작성하라.\n"
      ]
    },
    {
      "cell_type": "code",
      "execution_count": null,
      "metadata": {},
      "outputs": [],
      "source": [
        "# 문제 2: 세트 멤버십 검사\n",
        "fruits = {\"orange\", \"banana\", \"kiwi\"}\n",
        "target = \"apple\"\n",
        "result = target in fruits\n",
        "\n",
        "print(f\"세트: {fruits}\")\n",
        "print(f\"검사할 문자열: '{target}'\")\n",
        "print(f\"'apple'이 세트에 포함되어 있는가? {result}\")\n",
        "print(f\"'apple' in {fruits}: {'apple' in fruits}\")\n"
      ]
    },
    {
      "cell_type": "markdown",
      "metadata": {},
      "source": [
        "## 문제 3: 딕셔너리 값 검사\n",
        "숫자 6이 딕셔너리 {\"a\": 1, \"b\": 2, \"c\": 3, \"d\": 4}의 값들 중 하나인지 검사하는 프로그램을 작성하라.\n"
      ]
    },
    {
      "cell_type": "code",
      "execution_count": null,
      "metadata": {},
      "outputs": [],
      "source": [
        "# 문제 3: 딕셔너리 값 검사\n",
        "data = {\"a\": 1, \"b\": 2, \"c\": 3, \"d\": 4}\n",
        "target = 6\n",
        "values = data.values()\n",
        "result = target in values\n",
        "\n",
        "print(f\"딕셔너리: {data}\")\n",
        "print(f\"딕셔너리의 값들: {list(values)}\")\n",
        "print(f\"검사할 숫자: {target}\")\n",
        "print(f\"6이 딕셔너리의 값들 중 하나인가? {result}\")\n",
        "print(f\"6 in {list(values)}: {6 in values}\")\n"
      ]
    },
    {
      "cell_type": "markdown",
      "metadata": {},
      "source": [
        "## 문제 4: 튜플 멤버십 검사\n",
        "문자열 \"cat\"이 튜플 (\"dog\", \"cat\", \"bird\", \"hamster\")에 포함되어 있는지 검사하는 프로그램을 작성하라.\n"
      ]
    },
    {
      "cell_type": "code",
      "execution_count": null,
      "metadata": {},
      "outputs": [],
      "source": [
        "# 문제 4: 튜플 멤버십 검사\n",
        "animals = (\"dog\", \"cat\", \"bird\", \"hamster\")\n",
        "target = \"cat\"\n",
        "result = target in animals\n",
        "\n",
        "print(f\"튜플: {animals}\")\n",
        "print(f\"검사할 문자열: '{target}'\")\n",
        "print(f\"'cat'이 튜플에 포함되어 있는가? {result}\")\n",
        "print(f\"'cat' in {animals}: {'cat' in animals}\")\n"
      ]
    },
    {
      "cell_type": "markdown",
      "metadata": {},
      "source": [
        "## 문제 5: 세트 멤버십 검사\n",
        "숫자 10이 세트 {2, 4, 6, 8, 10}에 포함되어 있는지 검사하는 프로그램을 작성하라.\n"
      ]
    },
    {
      "cell_type": "code",
      "execution_count": null,
      "metadata": {},
      "outputs": [],
      "source": [
        "# 문제 5: 세트 멤버십 검사\n",
        "even_numbers = {2, 4, 6, 8, 10}\n",
        "target = 10\n",
        "result = target in even_numbers\n",
        "\n",
        "print(f\"세트: {even_numbers}\")\n",
        "print(f\"검사할 숫자: {target}\")\n",
        "print(f\"10이 세트에 포함되어 있는가? {result}\")\n",
        "print(f\"10 in {even_numbers}: {10 in even_numbers}\")\n"
      ]
    }
  ],
  "metadata": {
    "language_info": {
      "name": "python"
    }
  },
  "nbformat": 4,
  "nbformat_minor": 2
}
