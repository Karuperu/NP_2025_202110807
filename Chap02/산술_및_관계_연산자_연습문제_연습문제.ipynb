{
  "cells": [
    {
      "cell_type": "markdown",
      "metadata": {},
      "source": [
        "# 산술 및 관계 연산자 연습문제\n",
        "\n",
        "1. 5와 3을 더한 값을 출력하는 프로그램을 작성하라.\n",
        "2. 7에서 3을 뺀 값을 출력하는 프로그램을 작성하라.\n",
        "3. 4를 2로 나눈 값을 출력하는 프로그램을 작성하라.\n",
        "4. 8을 3으로 나눈 몫과 나머지를 출력하는 프로그램을 작성하라.\n",
        "5. 2의 5제곱을 출력하는 프로그램을 작성하라.\n",
        "6. 입력된 정수가 10보다 크고 20보다 작은지 검사하는 프로그램을 작성하라.\n",
        "7. 문자열 \"hello\"와 문자열 \"world\"를 이어 붙인 결과를 출력하는 프로그램을 작성하라.\n",
        "8. 7을 2로 나눈 결과가 3보다 작은지 검사하는 프로그램을 작성하라.\n",
        "9. 변수 x의 값이 5와 같지 않은지 검사하는 프로그램을 작성하라.\n",
        "10. 변수 y의 값이 10에서 20 사이의 값인지 검사하는 프로그램을 작성하라."
      ]
    },
    {
      "cell_type": "markdown",
      "metadata": {},
      "source": [
        "## 문제 1: 덧셈\n",
        "5와 3을 더한 값을 출력하는 프로그램을 작성하라.\n"
      ]
    },
    {
      "cell_type": "code",
      "execution_count": null,
      "metadata": {},
      "outputs": [],
      "source": [
        "# 문제 1: 덧셈\n",
        "result = 5 + 3\n",
        "print(f\"5 + 3 = {result}\")\n"
      ]
    },
    {
      "cell_type": "markdown",
      "metadata": {},
      "source": [
        "## 문제 2: 뺄셈\n",
        "7에서 3을 뺀 값을 출력하는 프로그램을 작성하라.\n"
      ]
    },
    {
      "cell_type": "code",
      "execution_count": null,
      "metadata": {},
      "outputs": [],
      "source": [
        "# 문제 2: 뺄셈\n",
        "result = 7 - 3\n",
        "print(f\"7 - 3 = {result}\")\n"
      ]
    },
    {
      "cell_type": "markdown",
      "metadata": {},
      "source": [
        "## 문제 3: 나눗셈\n",
        "4를 2로 나눈 값을 출력하는 프로그램을 작성하라.\n"
      ]
    },
    {
      "cell_type": "code",
      "execution_count": null,
      "metadata": {},
      "outputs": [],
      "source": [
        "# 문제 3: 나눗셈\n",
        "result = 4 / 2\n",
        "print(f\"4 / 2 = {result}\")\n"
      ]
    },
    {
      "cell_type": "markdown",
      "metadata": {},
      "source": [
        "## 문제 4: 몫과 나머지\n",
        "8을 3으로 나눈 몫과 나머지를 출력하는 프로그램을 작성하라.\n"
      ]
    },
    {
      "cell_type": "code",
      "execution_count": null,
      "metadata": {},
      "outputs": [],
      "source": [
        "# 문제 4: 몫과 나머지\n",
        "quotient = 8 // 3  # 몫\n",
        "remainder = 8 % 3  # 나머지\n",
        "print(f\"8 ÷ 3의 몫: {quotient}\")\n",
        "print(f\"8 ÷ 3의 나머지: {remainder}\")\n"
      ]
    },
    {
      "cell_type": "markdown",
      "metadata": {},
      "source": [
        "## 문제 5: 거듭제곱\n",
        "2의 5제곱을 출력하는 프로그램을 작성하라.\n"
      ]
    },
    {
      "cell_type": "code",
      "execution_count": null,
      "metadata": {},
      "outputs": [],
      "source": [
        "# 문제 5: 거듭제곱\n",
        "result = 2 ** 5\n",
        "print(f\"2의 5제곱 = {result}\")\n"
      ]
    },
    {
      "cell_type": "markdown",
      "metadata": {},
      "source": [
        "## 문제 6: 범위 검사\n",
        "입력된 정수가 10보다 크고 20보다 작은지 검사하는 프로그램을 작성하라.\n"
      ]
    },
    {
      "cell_type": "code",
      "execution_count": null,
      "metadata": {},
      "outputs": [],
      "source": [
        "# 문제 6: 범위 검사\n",
        "number = int(input(\"정수를 입력하세요: \"))\n",
        "is_in_range = 10 < number < 20\n",
        "print(f\"{number}은(는) 10보다 크고 20보다 작은가? {is_in_range}\")\n"
      ]
    },
    {
      "cell_type": "markdown",
      "metadata": {},
      "source": [
        "## 문제 7: 문자열 연결\n",
        "문자열 \"hello\"와 문자열 \"world\"를 이어 붙인 결과를 출력하는 프로그램을 작성하라.\n"
      ]
    },
    {
      "cell_type": "code",
      "execution_count": null,
      "metadata": {},
      "outputs": [],
      "source": [
        "# 문제 7: 문자열 연결\n",
        "str1 = \"hello\"\n",
        "str2 = \"world\"\n",
        "result = str1 + str2\n",
        "print(f'\"{str1}\" + \"{str2}\" = \"{result}\"')\n"
      ]
    },
    {
      "cell_type": "markdown",
      "metadata": {},
      "source": [
        "## 문제 8: 비교 연산\n",
        "7을 2로 나눈 결과가 3보다 작은지 검사하는 프로그램을 작성하라.\n"
      ]
    },
    {
      "cell_type": "code",
      "execution_count": null,
      "metadata": {},
      "outputs": [],
      "source": [
        "# 문제 8: 비교 연산\n",
        "result = 7 / 2\n",
        "is_less_than_3 = result < 3\n",
        "print(f\"7 ÷ 2 = {result}\")\n",
        "print(f\"{result} < 3 ? {is_less_than_3}\")\n"
      ]
    },
    {
      "cell_type": "markdown",
      "metadata": {},
      "source": [
        "## 문제 9: 같지 않음 검사\n",
        "변수 x의 값이 5와 같지 않은지 검사하는 프로그램을 작성하라.\n"
      ]
    },
    {
      "cell_type": "code",
      "execution_count": null,
      "metadata": {},
      "outputs": [],
      "source": [
        "# 문제 9: 같지 않음 검사\n",
        "x = int(input(\"x의 값을 입력하세요: \"))\n",
        "is_not_equal = x != 5\n",
        "print(f\"x = {x}\")\n",
        "print(f\"x != 5 ? {is_not_equal}\")\n"
      ]
    },
    {
      "cell_type": "markdown",
      "metadata": {},
      "source": [
        "## 문제 10: 범위 검사\n",
        "변수 y의 값이 10에서 20 사이의 값인지 검사하는 프로그램을 작성하라.\n"
      ]
    },
    {
      "cell_type": "code",
      "execution_count": null,
      "metadata": {},
      "outputs": [],
      "source": [
        "# 문제 10: 범위 검사\n",
        "y = int(input(\"y의 값을 입력하세요: \"))\n",
        "is_between = 10 <= y <= 20\n",
        "print(f\"y = {y}\")\n",
        "print(f\"10 <= y <= 20 ? {is_between}\")\n"
      ]
    }
  ],
  "metadata": {
    "kernelspec": {
      "display_name": "Python 3",
      "language": "python",
      "name": "python3"
    },
    "language_info": {
      "codemirror_mode": {
        "name": "ipython",
        "version": 3
      },
      "file_extension": ".py",
      "mimetype": "text/x-python",
      "name": "python",
      "nbconvert_exporter": "python",
      "pygments_lexer": "ipython3",
      "version": "3.12.10"
    }
  },
  "nbformat": 4,
  "nbformat_minor": 2
}
