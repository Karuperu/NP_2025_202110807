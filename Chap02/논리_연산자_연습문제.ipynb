{
  "cells": [
    {
      "cell_type": "markdown",
      "metadata": {},
      "source": [
        "# 논리 연산자 연습문제\n",
        "\n",
        "## 문제 1: 범위 검사\n",
        "5가 3보다 크고 7보다 작은지 검사하는 프로그램을 작성하라.\n"
      ]
    },
    {
      "cell_type": "code",
      "execution_count": null,
      "metadata": {},
      "outputs": [],
      "source": [
        "# 문제 1: 범위 검사\n",
        "result = 5 > 3 and 5 < 7\n",
        "print(f\"5가 3보다 크고 7보다 작은가? {result}\")\n",
        "print(f\"5 > 3: {5 > 3}\")\n",
        "print(f\"5 < 7: {5 < 7}\")\n",
        "print(f\"5 > 3 and 5 < 7: {5 > 3 and 5 < 7}\")\n"
      ]
    },
    {
      "cell_type": "markdown",
      "metadata": {},
      "source": [
        "## 문제 2: 변수 범위 검사\n",
        "변수 x가 10 이상이고 20 이하인지 검사하는 프로그램을 작성하라.\n"
      ]
    },
    {
      "cell_type": "code",
      "execution_count": null,
      "metadata": {},
      "outputs": [],
      "source": [
        "# 문제 2: 변수 범위 검사\n",
        "x = int(input(\"x의 값을 입력하세요: \"))\n",
        "result = x >= 10 and x <= 20\n",
        "print(f\"x = {x}\")\n",
        "print(f\"x >= 10: {x >= 10}\")\n",
        "print(f\"x <= 20: {x <= 20}\")\n",
        "print(f\"x가 10 이상이고 20 이하인가? {result}\")\n"
      ]
    },
    {
      "cell_type": "markdown",
      "metadata": {},
      "source": [
        "## 문제 3: 배수 검사\n",
        "변수 y가 5의 배수이거나 7의 배수인지 검사하는 프로그램을 작성하라.\n"
      ]
    },
    {
      "cell_type": "code",
      "execution_count": null,
      "metadata": {},
      "outputs": [],
      "source": [
        "# 문제 3: 배수 검사\n",
        "y = int(input(\"y의 값을 입력하세요: \"))\n",
        "is_multiple_of_5 = y % 5 == 0\n",
        "is_multiple_of_7 = y % 7 == 0\n",
        "result = is_multiple_of_5 or is_multiple_of_7\n",
        "\n",
        "print(f\"y = {y}\")\n",
        "print(f\"y % 5 == 0 (5의 배수): {is_multiple_of_5}\")\n",
        "print(f\"y % 7 == 0 (7의 배수): {is_multiple_of_7}\")\n",
        "print(f\"y가 5의 배수이거나 7의 배수인가? {result}\")\n"
      ]
    },
    {
      "cell_type": "markdown",
      "metadata": {},
      "source": [
        "## 문제 4: 양수이면서 짝수 검사\n",
        "변수 z가 양수이면서 짝수인지 검사하는 프로그램을 작성하라.\n"
      ]
    },
    {
      "cell_type": "code",
      "execution_count": null,
      "metadata": {},
      "outputs": [],
      "source": [
        "# 문제 4: 양수이면서 짝수 검사\n",
        "z = int(input(\"z의 값을 입력하세요: \"))\n",
        "is_positive = z > 0\n",
        "is_even = z % 2 == 0\n",
        "result = is_positive and is_even\n",
        "\n",
        "print(f\"z = {z}\")\n",
        "print(f\"z > 0 (양수): {is_positive}\")\n",
        "print(f\"z % 2 == 0 (짝수): {is_even}\")\n",
        "print(f\"z가 양수이면서 짝수인가? {result}\")\n"
      ]
    },
    {
      "cell_type": "markdown",
      "metadata": {},
      "source": [
        "## 문제 5: 문자열 검사\n",
        "변수 a가 문자열 \"hello\"나 문자열 \"world\" 중 하나인지 검사하는 프로그램을 작성하라.\n"
      ]
    },
    {
      "cell_type": "code",
      "execution_count": null,
      "metadata": {},
      "outputs": [],
      "source": [
        "# 문제 5: 문자열 검사\n",
        "a = input(\"문자열을 입력하세요: \")\n",
        "is_hello = a == \"hello\"\n",
        "is_world = a == \"world\"\n",
        "result = is_hello or is_world\n",
        "\n",
        "print(f\"a = '{a}'\")\n",
        "print(f\"a == 'hello': {is_hello}\")\n",
        "print(f\"a == 'world': {is_world}\")\n",
        "print(f\"a가 'hello'나 'world' 중 하나인가? {result}\")\n"
      ]
    }
  ],
  "metadata": {
    "language_info": {
      "name": "python"
    }
  },
  "nbformat": 4,
  "nbformat_minor": 2
}
