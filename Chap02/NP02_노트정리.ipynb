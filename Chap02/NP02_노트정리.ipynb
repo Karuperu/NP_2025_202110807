{
 "cells": [
  {
   "cell_type": "markdown",
   "id": "fc2cbcb1",
   "metadata": {},
   "source": [
    " ## 2장 노트정리\n",
    "\n",
    " 파일은 2장 학습하면서 실행한 내용을 정리한 것이다.\n",
    " \n",
    " 날짜 : 2025.9.9\n",
    " \n",
    " 저자 안치성"
   ]
  },
  {
   "cell_type": "code",
   "execution_count": null,
   "id": "e93440cf",
   "metadata": {},
   "outputs": [
    {
     "name": "stdout",
     "output_type": "stream",
     "text": [
      "hello,반갑습니다\n"
     ]
    }
   ],
   "source": [
    "print(\"hello\")"
   ]
  },
  {
   "cell_type": "code",
   "execution_count": 1,
   "id": "68dc0ed6",
   "metadata": {},
   "outputs": [
    {
     "name": "stdout",
     "output_type": "stream",
     "text": [
      "X = 3\n"
     ]
    }
   ],
   "source": [
    "x = 3\n",
    "print(f\"X = {x}\")"
   ]
  }
 ],
 "metadata": {
  "kernelspec": {
   "display_name": "Python 3",
   "language": "python",
   "name": "python3"
  },
  "language_info": {
   "codemirror_mode": {
    "name": "ipython",
    "version": 3
   },
   "file_extension": ".py",
   "mimetype": "text/x-python",
   "name": "python",
   "nbconvert_exporter": "python",
   "pygments_lexer": "ipython3",
   "version": "3.12.10"
  }
 },
 "nbformat": 4,
 "nbformat_minor": 5
}
